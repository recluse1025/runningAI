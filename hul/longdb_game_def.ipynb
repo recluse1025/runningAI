{
 "cells": [
  {
   "cell_type": "code",
   "execution_count": null,
   "metadata": {},
   "outputs": [],
   "source": [
    "#篩選賽事函式\n",
    "def game(type2,place):\n",
    "    #與longdb連線\n",
    "    import pyodbc\n",
    "    cnxn=pyodbc.connect(\"DSN=SpliceODBC64\")\n",
    "    #sql指令容器\n",
    "    cursor=cnxn.cursor()\n",
    "    #篩選賽事類型\n",
    "    type2_dict = {\"ride\":\" '自行車' \",\"run\":\" '路跑' \"}\n",
    "    x = type2_dict.get(type2)\n",
    "    res_list = []\n",
    "    #篩選賽事區域\n",
    "    if place == 'north':\n",
    "        j = cursor.execute(\"SELECT * FROM SPLICE.RACE_BASIC WHERE 賽事種類 LIKE\"+ x +\"AND 日期 >'2019-01-01'  INTERSECT SELECT * FROM SPLICE.RACE_BASIC WHERE 地點 LIKE '%台北%' OR 地點 LIKE '%新北%' OR 地點 LIKE '%基隆%' OR 地點 LIKE '%桃園%' OR 地點 LIKE '%新竹%' OR 地點 LIKE '%宜蘭%'\")\n",
    "    elif place == 'center':\n",
    "        j = cursor.execute(\"SELECT * FROM SPLICE.RACE_BASIC WHERE 賽事種類 LIKE\"+ x +\"AND 日期 >'2019-01-01'  INTERSECT SELECT * FROM SPLICE.RACE_BASIC WHERE 地點 LIKE '%苗栗%' OR 地點 LIKE '%台中%' OR 地點 LIKE '%彰化%' OR 地點 LIKE '%南投%' OR 地點 LIKE '%雲林%'\")\n",
    "    elif place == 'south':\n",
    "        j = cursor.execute(\"SELECT * FROM SPLICE.RACE_BASIC WHERE 賽事種類 LIKE\"+ x +\"AND 日期 >'2019-01-01'  INTERSECT SELECT * FROM SPLICE.RACE_BASIC WHERE 地點 LIKE '%嘉義%' OR 地點 LIKE '%台南%' OR 地點 LIKE '%高雄%' OR 地點 LIKE '%屏東%' OR 地點 LIKE '%澎湖%'\")\n",
    "    elif place == 'east':\n",
    "        j = cursor.execute(\"SELECT * FROM SPLICE.RACE_BASIC WHERE 賽事種類 LIKE\"+ x +\"AND 日期 >'2019-01-01'  INTERSECT SELECT * FROM SPLICE.RACE_BASIC WHERE 地點 LIKE '%花蓮%' OR 地點 LIKE '%台東%'\")\n",
    "    #建立字典清單\n",
    "    for i in j:\n",
    "        type4 = i[2]\n",
    "        name = i[3]\n",
    "        url = i[4]\n",
    "        res = {'type': type4, 'name': name, 'url':url}\n",
    "        res_list.append(res)\n",
    "    return res_list\n"
   ]
  },
  {
   "cell_type": "code",
   "execution_count": null,
   "metadata": {},
   "outputs": [],
   "source": [
    "#使用函式\n",
    "game(\"run\",\"north\")  "
   ]
  },
  {
   "cell_type": "code",
   "execution_count": null,
   "metadata": {},
   "outputs": [],
   "source": []
  },
  {
   "cell_type": "code",
   "execution_count": null,
   "metadata": {},
   "outputs": [],
   "source": []
  }
 ],
 "metadata": {
  "kernelspec": {
   "display_name": "Python 3",
   "language": "python",
   "name": "python3"
  },
  "language_info": {
   "codemirror_mode": {
    "name": "ipython",
    "version": 3
   },
   "file_extension": ".py",
   "mimetype": "text/x-python",
   "name": "python",
   "nbconvert_exporter": "python",
   "pygments_lexer": "ipython3",
   "version": "3.7.3"
  }
 },
 "nbformat": 4,
 "nbformat_minor": 2
}
