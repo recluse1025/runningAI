{
 "cells": [
  {
   "cell_type": "code",
   "execution_count": null,
   "metadata": {},
   "outputs": [],
   "source": [
    "#路線篩選函式\n",
    "def road(type3,level,city):\n",
    "    #mysql連線\n",
    "    import mysql.connector\n",
    "    db = mysql.connector.connect(user='root', password='1234', host='192.168.200.149',port='3306', database=\"final\",charset = 'utf8')\n",
    "    #mysql指令容器\n",
    "    cursor = db.cursor()    \n",
    "    #篩選登山或跑步\n",
    "    type3_dict = {\"hill\":\" > 150 \",\"run\":\" < 150 \"}\n",
    "    x = type3_dict.get(type3)\n",
    "    #篩選難易度\n",
    "    level_dict ={\"strong\":\" '高' \",\"medium\":\" '中' \",\"weak\":\" '低' \"}\n",
    "    y = level_dict.get(level)\n",
    "    #篩選地區\n",
    "    city_dict = {\"TPE\":\"%台北%\", \"NTPC\":\"%新北%\", \"KEL\":\"%基隆%\", \"TYN\":\"%桃園%\", \"HSZ\":\"%新竹%\",\n",
    "                \"ZMI\":\"%苗栗%\", \"ILA\":\"%宜蘭%\", \"TXG\":\"%台中%\", \"CHW\":\"%彰化%\", \"NTC\":\"%南投%\", \n",
    "                 \"YUN\":\"%雲林%\", \"CYI\":\"%嘉義%\", \"TNN\":\"%台南%\", \"KHH\":\"%高雄%\", \"PIF\":\"%屏東%\",\n",
    "                \"PEH\":\"%澎湖%\"}\n",
    "    z = city_dict.get(city)\n",
    "    #sql篩選\n",
    "    cursor.execute(\"SELECT final.mountain_basic.url, final.mountain_basic.標題, final.mountain_basic.評分, final.mountain_basic.里程, final.mountain_basic.海拔高度, final.mountain_basic.難易度, final.mountain_city.所在縣市 FROM final.mountain_basic LEFT JOIN final.mountain_city ON final.mountain_basic.標題 = final.mountain_city.標題 WHERE final.mountain_basic.高度落差\"+ x +\"AND final.mountain_city.所在縣市 LIKE '\"+ z +\"' AND final.mountain_basic.難易度 LIKE\" + y)  \n",
    "    #建立字典清單\n",
    "    res_list = []\n",
    "    for x in cursor:\n",
    "        #url\n",
    "        a = x[0]\n",
    "        #標題\n",
    "        b = x[1]\n",
    "        #評分\n",
    "        c = x[2]\n",
    "        #里程\n",
    "        d = x[3]\n",
    "        #海拔高度\n",
    "        e = x[4]\n",
    "        #難易\n",
    "        f = x[5]\n",
    "        #縣市\n",
    "        g = x[6]\n",
    "        res = {'url': a, 'name': b, 'score':c, 'mileage':d,'high':e, 'level':f, 'city':g}\n",
    "        res_list.append(res)\n",
    "    db.close()\n",
    "    return res_list\n",
    "\n",
    "#使用函式\n",
    "road(\"hill\",\"weak\",\"NTPC\")\n"
   ]
  }
 ],
 "metadata": {
  "kernelspec": {
   "display_name": "Python 3",
   "language": "python",
   "name": "python3"
  },
  "language_info": {
   "codemirror_mode": {
    "name": "ipython",
    "version": 3
   },
   "file_extension": ".py",
   "mimetype": "text/x-python",
   "name": "python",
   "nbconvert_exporter": "python",
   "pygments_lexer": "ipython3",
   "version": "3.7.3"
  }
 },
 "nbformat": 4,
 "nbformat_minor": 2
}
